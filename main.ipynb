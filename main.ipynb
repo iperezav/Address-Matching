{
 "cells": [
  {
   "cell_type": "markdown",
   "id": "ba03d2d5",
   "metadata": {},
   "source": [
    "# Address Matching"
   ]
  },
  {
   "cell_type": "code",
   "execution_count": null,
   "id": "09a6656f",
   "metadata": {},
   "outputs": [],
   "source": []
  },
  {
   "cell_type": "markdown",
   "id": "44605ece",
   "metadata": {},
   "source": [
    "Normalization can be the difference between in general fuzzy string matching and address matching\n",
    "\n",
    "Does normalizing the address matter? "
   ]
  },
  {
   "cell_type": "code",
   "execution_count": null,
   "id": "80b85d46",
   "metadata": {},
   "outputs": [],
   "source": []
  },
  {
   "cell_type": "markdown",
   "id": "bedd01fc",
   "metadata": {},
   "source": [
    "### Libraries"
   ]
  },
  {
   "cell_type": "code",
   "execution_count": null,
   "id": "aecba5c8",
   "metadata": {},
   "outputs": [],
   "source": [
    "import numpy as np\n",
    "import pandas as pd\n",
    "import fuzzywuzzy"
   ]
  },
  {
   "cell_type": "code",
   "execution_count": null,
   "id": "bb8f8bb5",
   "metadata": {},
   "outputs": [],
   "source": []
  },
  {
   "cell_type": "markdown",
   "id": "8e2186eb",
   "metadata": {},
   "source": [
    "## 1. Issues"
   ]
  },
  {
   "cell_type": "code",
   "execution_count": null,
   "id": "238b8a85",
   "metadata": {},
   "outputs": [],
   "source": []
  },
  {
   "cell_type": "markdown",
   "id": "c998b87a",
   "metadata": {},
   "source": [
    "## 2. Address Normalization"
   ]
  },
  {
   "cell_type": "code",
   "execution_count": null,
   "id": "6943a3f7",
   "metadata": {},
   "outputs": [],
   "source": []
  },
  {
   "cell_type": "markdown",
   "id": "ceeecc07",
   "metadata": {},
   "source": [
    "## 3. Similarity Measures"
   ]
  },
  {
   "cell_type": "code",
   "execution_count": null,
   "id": "2cc10c8f",
   "metadata": {},
   "outputs": [],
   "source": []
  },
  {
   "cell_type": "markdown",
   "id": "44cc6a75",
   "metadata": {},
   "source": [
    "## 4. NLP"
   ]
  },
  {
   "cell_type": "code",
   "execution_count": null,
   "id": "cac67a79",
   "metadata": {},
   "outputs": [],
   "source": []
  },
  {
   "cell_type": "markdown",
   "id": "a841bf42",
   "metadata": {},
   "source": [
    "## 5. Transformers"
   ]
  },
  {
   "cell_type": "code",
   "execution_count": null,
   "id": "b33b43be",
   "metadata": {},
   "outputs": [],
   "source": []
  },
  {
   "cell_type": "markdown",
   "id": "83cddf1c",
   "metadata": {},
   "source": [
    "## 6. RL"
   ]
  },
  {
   "cell_type": "code",
   "execution_count": null,
   "id": "68d8a58a",
   "metadata": {},
   "outputs": [],
   "source": []
  }
 ],
 "metadata": {
  "kernelspec": {
   "display_name": "Python 3",
   "language": "python",
   "name": "python3"
  },
  "language_info": {
   "codemirror_mode": {
    "name": "ipython",
    "version": 3
   },
   "file_extension": ".py",
   "mimetype": "text/x-python",
   "name": "python",
   "nbconvert_exporter": "python",
   "pygments_lexer": "ipython3",
   "version": "3.13.3"
  }
 },
 "nbformat": 4,
 "nbformat_minor": 5
}
